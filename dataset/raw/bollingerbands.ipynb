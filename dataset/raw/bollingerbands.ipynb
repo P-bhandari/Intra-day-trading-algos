{
 "cells": [
  {
   "cell_type": "code",
   "execution_count": 17,
   "metadata": {
    "scrolled": true
   },
   "outputs": [],
   "source": [
    "import statistics \n",
    "import numpy as np\n",
    "\n",
    "bollinger_window_size = 20 ; \n",
    "\n",
    "def calc_bollinger(array):\n",
    "    middleband = 0 ; \n",
    "    upperband = 0 ; \n",
    "    lowerband = 0 ; \n",
    "    if(len(array)>0):\n",
    "        middleband = np.mean(array); \n",
    "        std_dev = np.std(array) ;\n",
    "        upperband = middleband + std_dev ;\n",
    "        lowerband = middleband - std_dev ;\n",
    "    else:\n",
    "        print(\"[calc_bollinger] Size of input array must be greater than 0\"); \n",
    "    bollinger= []  ; \n",
    "    bollinger.append(upperband); \n",
    "    bollinger.append(middleband); \n",
    "    bollinger.append(lowerband); \n",
    "    return bollinger ; \n",
    "    \n",
    "def bollinger_bands(array, start_index ,window_size=bollinger_window_size):\n",
    "    if(start_index + window_size <len(array)):\n",
    "        return calc_bollinger(array[start_index:start_index+20]);\n",
    "    else:\n",
    "        return calc_bollinger(array[start_index:]);\n",
    "    \n",
    "# creating a simple data - set \n",
    "sample = [1, 2, 3, 4, 5] \n",
    "  \n",
    "a = bollinger_bands(sample,0,2); "
   ]
  },
  {
   "cell_type": "code",
   "execution_count": 18,
   "metadata": {},
   "outputs": [
    {
     "data": {
      "text/plain": [
       "[4.414213562373095, 3.0, 1.5857864376269049]"
      ]
     },
     "execution_count": 18,
     "metadata": {},
     "output_type": "execute_result"
    }
   ],
   "source": []
  },
  {
   "cell_type": "code",
   "execution_count": 13,
   "metadata": {},
   "outputs": [
    {
     "data": {
      "text/plain": [
       "7"
      ]
     },
     "execution_count": 13,
     "metadata": {},
     "output_type": "execute_result"
    }
   ],
   "source": []
  },
  {
   "cell_type": "code",
   "execution_count": 14,
   "metadata": {},
   "outputs": [
    {
     "data": {
      "text/plain": [
       "1.6659862556700857"
      ]
     },
     "execution_count": 14,
     "metadata": {},
     "output_type": "execute_result"
    }
   ],
   "source": []
  },
  {
   "cell_type": "code",
   "execution_count": null,
   "metadata": {},
   "outputs": [],
   "source": []
  }
 ],
 "metadata": {
  "kernelspec": {
   "display_name": "Python 3",
   "language": "python",
   "name": "python3"
  },
  "language_info": {
   "codemirror_mode": {
    "name": "ipython",
    "version": 3
   },
   "file_extension": ".py",
   "mimetype": "text/x-python",
   "name": "python",
   "nbconvert_exporter": "python",
   "pygments_lexer": "ipython3",
   "version": "3.7.0"
  }
 },
 "nbformat": 4,
 "nbformat_minor": 2
}
