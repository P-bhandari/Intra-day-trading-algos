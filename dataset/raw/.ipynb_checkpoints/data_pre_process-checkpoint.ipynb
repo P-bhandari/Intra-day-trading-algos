{
 "cells": [
  {
   "cell_type": "code",
   "execution_count": 34,
   "metadata": {},
   "outputs": [
    {
     "name": "stderr",
     "output_type": "stream",
     "text": [
      "/home/batman/anaconda3/lib/python3.7/site-packages/ipykernel_launcher.py:9: VisibleDeprecationWarning: Reading unicode strings without specifying the encoding argument is deprecated. Set the encoding, use None for the system default.\n",
      "  if __name__ == '__main__':\n"
     ]
    }
   ],
   "source": [
    "import numpy as np\n",
    "def dataprocess(path,filenames):\n",
    "    for name in filenames:\n",
    "        if(not process_file(path,name,name[6:9]+name[4:6])):\n",
    "            print(\"Error in parsing file = \",name);\n",
    "        \n",
    "        \n",
    "def process_file(path, filename, outputname ):\n",
    "    myData = np.genfromtxt(path+filename,dtype=None,delimiter= \" \");\n",
    "    np.save(path[:-4]+\"pre_processed/\"+outputname,myData);\n",
    "    return True; \n",
    "#myData = np.genfromtxt(\"logs10apr.txt\",dtype=['str','str','int','str','str','int','int','float','float','float'] ,delimiter= \" \");\n",
    "filenames = [\"logs10apr.txt\",\"logs11apr.txt\",\"logs12apr.txt\",\"logs13apr.txt\",\"logs17apr.txt\",\"logs18apr.txt\",\"logs19apr.txt\",\"logs20apr.txt\",\"logs21apr.txt\",\"logs24apr.txt\"];\n",
    "path = \"/home/batman/Documents/TradingAlgo/dataset/raw/\";\n",
    "dataprocess(path,filenames); \n",
    "\n"
   ]
  },
  {
   "cell_type": "code",
   "execution_count": null,
   "metadata": {},
   "outputs": [],
   "source": []
  }
 ],
 "metadata": {
  "kernelspec": {
   "display_name": "Python 3",
   "language": "python",
   "name": "python3"
  },
  "language_info": {
   "codemirror_mode": {
    "name": "ipython",
    "version": 3
   },
   "file_extension": ".py",
   "mimetype": "text/x-python",
   "name": "python",
   "nbconvert_exporter": "python",
   "pygments_lexer": "ipython3",
   "version": "3.7.0"
  }
 },
 "nbformat": 4,
 "nbformat_minor": 2
}
